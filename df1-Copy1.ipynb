{
 "cells": [
  {
   "cell_type": "code",
   "execution_count": 62,
   "id": "c0f18934",
   "metadata": {},
   "outputs": [
    {
     "name": "stdout",
     "output_type": "stream",
     "text": [
      "Requirement already satisfied: mysql-connector-python in c:\\users\\blueshift\\anaconda3\\lib\\site-packages (8.0.32)\n",
      "Requirement already satisfied: protobuf<=3.20.3,>=3.11.0 in c:\\users\\blueshift\\anaconda3\\lib\\site-packages (from mysql-connector-python) (3.20.3)\n"
     ]
    }
   ],
   "source": [
    "!pip install mysql-connector-python"
   ]
  },
  {
   "cell_type": "code",
   "execution_count": 63,
   "id": "14dce2b5",
   "metadata": {},
   "outputs": [],
   "source": [
    "import pymysql\n",
    "import pandas as pd"
   ]
  },
  {
   "cell_type": "code",
   "execution_count": 64,
   "id": "62648e94",
   "metadata": {},
   "outputs": [],
   "source": [
    "# Abrir uma conexão a um banco de dados\n",
    "con = pymysql.connect(host='172.31.10.2',user='powerbi',database='itecerp',cursorclass=pymysql.cursors.DictCursor,password='pbi@534')\n",
    "sql = \"SELECT * FROM fin_documento_origem\""
   ]
  },
  {
   "cell_type": "code",
   "execution_count": 65,
   "id": "d1feb5f2",
   "metadata": {},
   "outputs": [
    {
     "name": "stderr",
     "output_type": "stream",
     "text": [
      "C:\\Users\\BlueShift\\anaconda3\\lib\\site-packages\\pandas\\io\\sql.py:762: UserWarning: pandas only support SQLAlchemy connectable(engine/connection) ordatabase string URI or sqlite3 DBAPI2 connectionother DBAPI2 objects are not tested, please consider using SQLAlchemy\n",
      "  warnings.warn(\n"
     ]
    }
   ],
   "source": [
    "df = pd.read_sql(sql,con=con)"
   ]
  },
  {
   "cell_type": "code",
   "execution_count": 66,
   "id": "be6bf1d3",
   "metadata": {},
   "outputs": [
    {
     "name": "stdout",
     "output_type": "stream",
     "text": [
      "<class 'pandas.core.frame.DataFrame'>\n",
      "RangeIndex: 73 entries, 0 to 72\n",
      "Data columns (total 5 columns):\n",
      " #   Column           Non-Null Count  Dtype \n",
      "---  ------           --------------  ----- \n",
      " 0   ID               73 non-null     int64 \n",
      " 1   ID_EMPRESA       73 non-null     int64 \n",
      " 2   CODIGO           73 non-null     object\n",
      " 3   SIGLA_DOCUMENTO  73 non-null     object\n",
      " 4   DESCRICAO        73 non-null     object\n",
      "dtypes: int64(2), object(3)\n",
      "memory usage: 3.0+ KB\n"
     ]
    }
   ],
   "source": [
    "df.info()"
   ]
  },
  {
   "cell_type": "code",
   "execution_count": 67,
   "id": "f3000e0d",
   "metadata": {},
   "outputs": [
    {
     "data": {
      "text/plain": [
       "0                                   Nota Fiscal  1/1A  \n",
       "1                                  Nota Fiscal Avulsa  \n",
       "2                Nota Fiscal de Venda a Consumidor  2  \n",
       "3                               Cupom Fiscal   - ECF IF\n",
       "4                              Cupom Fiscal   - ECF PDV\n",
       "                            ...                        \n",
       "68                Cupom Fiscal EletrÃ´nico â€“ CF-e-SAT\n",
       "69                    Cupom Fiscal EletrÃ´nico CF-e-ECF\n",
       "70             Bilhete de Passagem EletrÃ´nico â€“ BP-e\n",
       "71    Nota Fiscal EletrÃ´nica para Consumidor Final ...\n",
       "72     Conhecimento de Transporte EletrÃ´nico - CT-e OS\n",
       "Name: DESCRICAO, Length: 73, dtype: object"
      ]
     },
     "execution_count": 67,
     "metadata": {},
     "output_type": "execute_result"
    }
   ],
   "source": [
    "df.DESCRICAO.drop_duplicates()"
   ]
  },
  {
   "cell_type": "code",
   "execution_count": 68,
   "id": "aff8a54d",
   "metadata": {
    "scrolled": true
   },
   "outputs": [],
   "source": [
    "df.loc[df.DESCRICAO ==\"Cupom Fiscal EletrÃ´nico â€“ CF-e-SAT\", \"DESCRICAO\"] = \"Cupom Eletrônico CF-SAT\"\n",
    "df.loc[df.DESCRICAO ==\"Cupom Fiscal EletrÃ´nico â€“ CF-e-ECF\", \"DESCRICAO\"] = \"Cupom Eletrônico  CF-ECF\"\n",
    "df.loc[df.DESCRICAO ==\"Bilhete de Passagem EletrÃ´nico â€“ BP-e\", \"DESCRICAO\"] = \"Bilhete de Passagem  BP\"\n",
    "df.loc[df.DESCRICAO ==\"Conhecimento de Transporte EletrÃ´nico - CT-e OS\", \"DESCRICAO\"] = \"Conhecimento de Transporte Eletrônico CT-OS\"\n",
    "df.loc[df.DESCRICAO ==\"Nota Fiscal EletrÃ´nica para Consumidor Fina\", \"DESCRICAO\"] = \"Nota Fiscal Eletrônica Final\"\n"
   ]
  },
  {
   "cell_type": "code",
   "execution_count": 69,
   "id": "75af42b4",
   "metadata": {},
   "outputs": [
    {
     "data": {
      "text/html": [
       "<div>\n",
       "<style scoped>\n",
       "    .dataframe tbody tr th:only-of-type {\n",
       "        vertical-align: middle;\n",
       "    }\n",
       "\n",
       "    .dataframe tbody tr th {\n",
       "        vertical-align: top;\n",
       "    }\n",
       "\n",
       "    .dataframe thead th {\n",
       "        text-align: right;\n",
       "    }\n",
       "</style>\n",
       "<table border=\"1\" class=\"dataframe\">\n",
       "  <thead>\n",
       "    <tr style=\"text-align: right;\">\n",
       "      <th></th>\n",
       "      <th>ID</th>\n",
       "      <th>ID_EMPRESA</th>\n",
       "      <th>CODIGO</th>\n",
       "      <th>SIGLA_DOCUMENTO</th>\n",
       "      <th>DESCRICAO</th>\n",
       "    </tr>\n",
       "  </thead>\n",
       "  <tbody>\n",
       "    <tr>\n",
       "      <th>0</th>\n",
       "      <td>32</td>\n",
       "      <td>1</td>\n",
       "      <td>01</td>\n",
       "      <td>Nf1</td>\n",
       "      <td>Nota Fiscal  1/1A</td>\n",
       "    </tr>\n",
       "    <tr>\n",
       "      <th>1</th>\n",
       "      <td>33</td>\n",
       "      <td>1</td>\n",
       "      <td>1B</td>\n",
       "      <td>NfA</td>\n",
       "      <td>Nota Fiscal Avulsa</td>\n",
       "    </tr>\n",
       "    <tr>\n",
       "      <th>2</th>\n",
       "      <td>34</td>\n",
       "      <td>1</td>\n",
       "      <td>02</td>\n",
       "      <td>NFVC</td>\n",
       "      <td>Nota Fiscal de Venda a Consumidor  2</td>\n",
       "    </tr>\n",
       "    <tr>\n",
       "      <th>3</th>\n",
       "      <td>35</td>\n",
       "      <td>1</td>\n",
       "      <td>2D</td>\n",
       "      <td>CF</td>\n",
       "      <td>Cupom Fiscal   - ECF IF</td>\n",
       "    </tr>\n",
       "    <tr>\n",
       "      <th>4</th>\n",
       "      <td>36</td>\n",
       "      <td>1</td>\n",
       "      <td>2C</td>\n",
       "      <td>CFPD</td>\n",
       "      <td>Cupom Fiscal   - ECF PDV</td>\n",
       "    </tr>\n",
       "    <tr>\n",
       "      <th>...</th>\n",
       "      <td>...</td>\n",
       "      <td>...</td>\n",
       "      <td>...</td>\n",
       "      <td>...</td>\n",
       "      <td>...</td>\n",
       "    </tr>\n",
       "    <tr>\n",
       "      <th>68</th>\n",
       "      <td>100</td>\n",
       "      <td>1</td>\n",
       "      <td>59</td>\n",
       "      <td>CFESAT</td>\n",
       "      <td>Cupom Eletrônico CF-SAT</td>\n",
       "    </tr>\n",
       "    <tr>\n",
       "      <th>69</th>\n",
       "      <td>101</td>\n",
       "      <td>1</td>\n",
       "      <td>60</td>\n",
       "      <td>CFEECF</td>\n",
       "      <td>Cupom Fiscal EletrÃ´nico CF-e-ECF</td>\n",
       "    </tr>\n",
       "    <tr>\n",
       "      <th>70</th>\n",
       "      <td>102</td>\n",
       "      <td>1</td>\n",
       "      <td>63</td>\n",
       "      <td>BPE</td>\n",
       "      <td>Bilhete de Passagem  BP</td>\n",
       "    </tr>\n",
       "    <tr>\n",
       "      <th>71</th>\n",
       "      <td>103</td>\n",
       "      <td>1</td>\n",
       "      <td>65</td>\n",
       "      <td>NFCE</td>\n",
       "      <td>Nota Fiscal EletrÃ´nica para Consumidor Final ...</td>\n",
       "    </tr>\n",
       "    <tr>\n",
       "      <th>72</th>\n",
       "      <td>104</td>\n",
       "      <td>1</td>\n",
       "      <td>67</td>\n",
       "      <td>CTEOS</td>\n",
       "      <td>Conhecimento de Transporte Eletrônico CT-OS</td>\n",
       "    </tr>\n",
       "  </tbody>\n",
       "</table>\n",
       "<p>73 rows × 5 columns</p>\n",
       "</div>"
      ],
      "text/plain": [
       "     ID  ID_EMPRESA CODIGO SIGLA_DOCUMENTO  \\\n",
       "0    32           1     01             Nf1   \n",
       "1    33           1     1B             NfA   \n",
       "2    34           1     02            NFVC   \n",
       "3    35           1     2D              CF   \n",
       "4    36           1     2C            CFPD   \n",
       "..  ...         ...    ...             ...   \n",
       "68  100           1     59          CFESAT   \n",
       "69  101           1     60          CFEECF   \n",
       "70  102           1     63             BPE   \n",
       "71  103           1     65            NFCE   \n",
       "72  104           1     67           CTEOS   \n",
       "\n",
       "                                            DESCRICAO  \n",
       "0                                 Nota Fiscal  1/1A    \n",
       "1                                Nota Fiscal Avulsa    \n",
       "2              Nota Fiscal de Venda a Consumidor  2    \n",
       "3                             Cupom Fiscal   - ECF IF  \n",
       "4                            Cupom Fiscal   - ECF PDV  \n",
       "..                                                ...  \n",
       "68                            Cupom Eletrônico CF-SAT  \n",
       "69                  Cupom Fiscal EletrÃ´nico CF-e-ECF  \n",
       "70                            Bilhete de Passagem  BP  \n",
       "71  Nota Fiscal EletrÃ´nica para Consumidor Final ...  \n",
       "72        Conhecimento de Transporte Eletrônico CT-OS  \n",
       "\n",
       "[73 rows x 5 columns]"
      ]
     },
     "execution_count": 69,
     "metadata": {},
     "output_type": "execute_result"
    }
   ],
   "source": [
    "df"
   ]
  },
  {
   "cell_type": "code",
   "execution_count": 71,
   "id": "b381863d",
   "metadata": {},
   "outputs": [],
   "source": [
    "df.to_csv(\"fin_documento_origem.csv\")"
   ]
  },
  {
   "cell_type": "code",
   "execution_count": null,
   "id": "de50a6f8",
   "metadata": {},
   "outputs": [],
   "source": []
  }
 ],
 "metadata": {
  "kernelspec": {
   "display_name": "Python 3 (ipykernel)",
   "language": "python",
   "name": "python3"
  },
  "language_info": {
   "codemirror_mode": {
    "name": "ipython",
    "version": 3
   },
   "file_extension": ".py",
   "mimetype": "text/x-python",
   "name": "python",
   "nbconvert_exporter": "python",
   "pygments_lexer": "ipython3",
   "version": "3.9.13"
  }
 },
 "nbformat": 4,
 "nbformat_minor": 5
}
